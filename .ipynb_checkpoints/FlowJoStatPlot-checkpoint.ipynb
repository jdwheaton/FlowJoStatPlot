{
 "cells": [
  {
   "cell_type": "code",
   "execution_count": 84,
   "metadata": {},
   "outputs": [],
   "source": [
    "import pandas as pd\n",
    "import matplotlib.pyplot as plt\n",
    "import seaborn as sns\n",
    "import numpy as np\n",
    "import re"
   ]
  },
  {
   "cell_type": "markdown",
   "metadata": {},
   "source": [
    "## Import data\n",
    "The test data was exported from FlowJo v9 table editor using the \"Save\" button to save as a tab-delimited text file. TSV is necessary in this case, because FlowJo uses commas in the gate descriptions."
   ]
  },
  {
   "cell_type": "code",
   "execution_count": 120,
   "metadata": {},
   "outputs": [],
   "source": [
    "df = pd.read_table(filepath_or_buffer=\"jw112_cytokine_test.tsv\", encoding=\"mac_roman\")"
   ]
  },
  {
   "cell_type": "markdown",
   "metadata": {},
   "source": [
    "**Note:** There is an import error when encoding is not specified - changing the encoding to `\"mac_roman\"` within the `pd.read_table()` call allowed import, but might not be applicable to all platforms. It might be useful to include an encoding conversion step using something like `chardet`."
   ]
  },
  {
   "cell_type": "code",
   "execution_count": 121,
   "metadata": {},
   "outputs": [],
   "source": [
    "df = df.drop([len(df)-1, len(df)-2])"
   ]
  },
  {
   "cell_type": "markdown",
   "metadata": {},
   "source": [
    "## Add grouping variables as new column(s)\n",
    "I will try to add grouping variables using a function to repeat a sequence of strings and add as a new column."
   ]
  },
  {
   "cell_type": "code",
   "execution_count": 122,
   "metadata": {},
   "outputs": [],
   "source": [
    "genotypes = ['KO', 'WT', 'KO', 'WT', 'KO']\n",
    "organs = [\"Spleen\", \"PP\", \"coLP\"]"
   ]
  },
  {
   "cell_type": "code",
   "execution_count": 123,
   "metadata": {},
   "outputs": [],
   "source": [
    "df.insert(1, \"genotype\", np.tile(genotypes, 3))\n",
    "df.insert(2, \"organ\", np.repeat(organs, 5))"
   ]
  },
  {
   "cell_type": "code",
   "execution_count": 200,
   "metadata": {},
   "outputs": [
    {
     "data": {
      "text/html": [
       "<div>\n",
       "<style scoped>\n",
       "    .dataframe tbody tr th:only-of-type {\n",
       "        vertical-align: middle;\n",
       "    }\n",
       "\n",
       "    .dataframe tbody tr th {\n",
       "        vertical-align: top;\n",
       "    }\n",
       "\n",
       "    .dataframe thead th {\n",
       "        text-align: right;\n",
       "    }\n",
       "</style>\n",
       "<table border=\"1\" class=\"dataframe\">\n",
       "  <thead>\n",
       "    <tr style=\"text-align: right;\">\n",
       "      <th></th>\n",
       "      <th>Sample</th>\n",
       "      <th>genotype</th>\n",
       "      <th>organ</th>\n",
       "      <th>TCRb+CD4+/GM-CSF+,Freq. of Parent</th>\n",
       "      <th>TCRb+CD4+/Q1: IL-17A–, IFNg+,Freq. of Parent</th>\n",
       "      <th>TCRb+CD4+/Q2: IL-17A+, IFNg+,Freq. of Parent</th>\n",
       "      <th>TCRb+CD4+/Q3: IL-17A+, IFNg–,Freq. of Parent</th>\n",
       "      <th>TCRb+CD4+/Q4: IL-17A–, IFNg–,Freq. of Parent</th>\n",
       "      <th>TCRb+CD4+/Q5: IL-13–, IL-4+,Freq. of Parent</th>\n",
       "      <th>TCRb+CD4+/Q6: IL-13+, IL-4+,Freq. of Parent</th>\n",
       "      <th>TCRb+CD4+/Q7: IL-13+, IL-4–,Freq. of Parent</th>\n",
       "      <th>TCRb+CD4+/Q8: IL-13–, IL-4–,Freq. of Parent</th>\n",
       "      <th>TCRb+CD4+/IL-2+,Freq. of Parent</th>\n",
       "    </tr>\n",
       "  </thead>\n",
       "  <tbody>\n",
       "    <tr>\n",
       "      <th>0</th>\n",
       "      <td>1: Specimen_003_Spleen_001_045.fcs</td>\n",
       "      <td>KO</td>\n",
       "      <td>Spleen</td>\n",
       "      <td>0.7590</td>\n",
       "      <td>13.60</td>\n",
       "      <td>0.14400</td>\n",
       "      <td>1.560</td>\n",
       "      <td>84.7</td>\n",
       "      <td>0.833</td>\n",
       "      <td>0.4160</td>\n",
       "      <td>2.060</td>\n",
       "      <td>96.7</td>\n",
       "      <td>44.5</td>\n",
       "    </tr>\n",
       "    <tr>\n",
       "      <th>1</th>\n",
       "      <td>2: Specimen_003_Spleen_002_046.fcs</td>\n",
       "      <td>WT</td>\n",
       "      <td>Spleen</td>\n",
       "      <td>0.0314</td>\n",
       "      <td>10.70</td>\n",
       "      <td>0.02510</td>\n",
       "      <td>0.270</td>\n",
       "      <td>89.0</td>\n",
       "      <td>0.571</td>\n",
       "      <td>0.0815</td>\n",
       "      <td>0.232</td>\n",
       "      <td>99.1</td>\n",
       "      <td>45.8</td>\n",
       "    </tr>\n",
       "    <tr>\n",
       "      <th>2</th>\n",
       "      <td>3: Specimen_003_Spleen_003_047.fcs</td>\n",
       "      <td>KO</td>\n",
       "      <td>Spleen</td>\n",
       "      <td>0.0807</td>\n",
       "      <td>6.94</td>\n",
       "      <td>0.00673</td>\n",
       "      <td>0.424</td>\n",
       "      <td>92.6</td>\n",
       "      <td>0.888</td>\n",
       "      <td>0.5050</td>\n",
       "      <td>1.110</td>\n",
       "      <td>97.5</td>\n",
       "      <td>36.7</td>\n",
       "    </tr>\n",
       "    <tr>\n",
       "      <th>3</th>\n",
       "      <td>4: Specimen_003_Spleen_004_048.fcs</td>\n",
       "      <td>WT</td>\n",
       "      <td>Spleen</td>\n",
       "      <td>0.0691</td>\n",
       "      <td>6.31</td>\n",
       "      <td>0.01590</td>\n",
       "      <td>0.154</td>\n",
       "      <td>93.5</td>\n",
       "      <td>0.499</td>\n",
       "      <td>0.1280</td>\n",
       "      <td>0.383</td>\n",
       "      <td>99.0</td>\n",
       "      <td>48.6</td>\n",
       "    </tr>\n",
       "    <tr>\n",
       "      <th>4</th>\n",
       "      <td>5: Specimen_003_Spleen_005_049.fcs</td>\n",
       "      <td>KO</td>\n",
       "      <td>Spleen</td>\n",
       "      <td>0.1340</td>\n",
       "      <td>11.20</td>\n",
       "      <td>0.02560</td>\n",
       "      <td>0.576</td>\n",
       "      <td>88.2</td>\n",
       "      <td>0.775</td>\n",
       "      <td>0.5440</td>\n",
       "      <td>1.630</td>\n",
       "      <td>97.1</td>\n",
       "      <td>36.6</td>\n",
       "    </tr>\n",
       "  </tbody>\n",
       "</table>\n",
       "</div>"
      ],
      "text/plain": [
       "                               Sample genotype   organ  \\\n",
       "0  1: Specimen_003_Spleen_001_045.fcs       KO  Spleen   \n",
       "1  2: Specimen_003_Spleen_002_046.fcs       WT  Spleen   \n",
       "2  3: Specimen_003_Spleen_003_047.fcs       KO  Spleen   \n",
       "3  4: Specimen_003_Spleen_004_048.fcs       WT  Spleen   \n",
       "4  5: Specimen_003_Spleen_005_049.fcs       KO  Spleen   \n",
       "\n",
       "   TCRb+CD4+/GM-CSF+,Freq. of Parent  \\\n",
       "0                             0.7590   \n",
       "1                             0.0314   \n",
       "2                             0.0807   \n",
       "3                             0.0691   \n",
       "4                             0.1340   \n",
       "\n",
       "   TCRb+CD4+/Q1: IL-17A–, IFNg+,Freq. of Parent  \\\n",
       "0                                         13.60   \n",
       "1                                         10.70   \n",
       "2                                          6.94   \n",
       "3                                          6.31   \n",
       "4                                         11.20   \n",
       "\n",
       "   TCRb+CD4+/Q2: IL-17A+, IFNg+,Freq. of Parent  \\\n",
       "0                                       0.14400   \n",
       "1                                       0.02510   \n",
       "2                                       0.00673   \n",
       "3                                       0.01590   \n",
       "4                                       0.02560   \n",
       "\n",
       "   TCRb+CD4+/Q3: IL-17A+, IFNg–,Freq. of Parent  \\\n",
       "0                                         1.560   \n",
       "1                                         0.270   \n",
       "2                                         0.424   \n",
       "3                                         0.154   \n",
       "4                                         0.576   \n",
       "\n",
       "   TCRb+CD4+/Q4: IL-17A–, IFNg–,Freq. of Parent  \\\n",
       "0                                          84.7   \n",
       "1                                          89.0   \n",
       "2                                          92.6   \n",
       "3                                          93.5   \n",
       "4                                          88.2   \n",
       "\n",
       "   TCRb+CD4+/Q5: IL-13–, IL-4+,Freq. of Parent  \\\n",
       "0                                        0.833   \n",
       "1                                        0.571   \n",
       "2                                        0.888   \n",
       "3                                        0.499   \n",
       "4                                        0.775   \n",
       "\n",
       "   TCRb+CD4+/Q6: IL-13+, IL-4+,Freq. of Parent  \\\n",
       "0                                       0.4160   \n",
       "1                                       0.0815   \n",
       "2                                       0.5050   \n",
       "3                                       0.1280   \n",
       "4                                       0.5440   \n",
       "\n",
       "   TCRb+CD4+/Q7: IL-13+, IL-4–,Freq. of Parent  \\\n",
       "0                                        2.060   \n",
       "1                                        0.232   \n",
       "2                                        1.110   \n",
       "3                                        0.383   \n",
       "4                                        1.630   \n",
       "\n",
       "   TCRb+CD4+/Q8: IL-13–, IL-4–,Freq. of Parent  \\\n",
       "0                                         96.7   \n",
       "1                                         99.1   \n",
       "2                                         97.5   \n",
       "3                                         99.0   \n",
       "4                                         97.1   \n",
       "\n",
       "   TCRb+CD4+/IL-2+,Freq. of Parent  \n",
       "0                             44.5  \n",
       "1                             45.8  \n",
       "2                             36.7  \n",
       "3                             48.6  \n",
       "4                             36.6  "
      ]
     },
     "execution_count": 200,
     "metadata": {},
     "output_type": "execute_result"
    }
   ],
   "source": [
    "df.head()"
   ]
  },
  {
   "cell_type": "markdown",
   "metadata": {},
   "source": [
    "## Reformat column names to remove leading gate hierarchy\n",
    "We want to leave only the current and parent gates, which is basically everything to the right of the second-to-last \"/\" in the name. It should be easy enough to trim this with regex."
   ]
  },
  {
   "cell_type": "code",
   "execution_count": 193,
   "metadata": {},
   "outputs": [],
   "source": [
    "def trimColnameDepth(df, pattern=None):\n",
    "    '''Trim column names according to a regex pattern. \n",
    "    Returns the first match to the regex as a list of new column names.\n",
    "    If no match, returns unaltered column name.'''\n",
    "    trimmed = []\n",
    "    if not pattern: # Default pattern if none provided\n",
    "        pattern = re.compile(r\"\\/([^\\/]+\\/[^\\/]+$)\")\n",
    "    for c in df.columns:\n",
    "        match = pattern.search(c) # Look for a match to the pattern\n",
    "        if match:\n",
    "            trimmed.append(match.group(1))\n",
    "        else:\n",
    "            trimmed.append(c)\n",
    "    return(trimmed)"
   ]
  },
  {
   "cell_type": "code",
   "execution_count": 194,
   "metadata": {},
   "outputs": [],
   "source": [
    "def regexDepth(d):\n",
    "    '''Generates a regex pattern to trim gating paths to a specified depth d.'''\n",
    "    string = \"[^\\/]+$\" # Default pattern, depth 0\n",
    "    unit = \"[^\\/]+\\/\" # Incremental unit of depth to add to regex\n",
    "    if d == 0:\n",
    "        return(re.compile(\"\\/(\" + string + \")\"))\n",
    "    else:\n",
    "        return(re.compile(\"\\/(\" + \"\".join(np.repeat(unit, d)) + string + \")\"))"
   ]
  },
  {
   "cell_type": "code",
   "execution_count": 201,
   "metadata": {},
   "outputs": [],
   "source": [
    "df.columns = trimColnameDepth(df, regexDepth(0))"
   ]
  },
  {
   "cell_type": "markdown",
   "metadata": {},
   "source": [
    "## Plot some data\n",
    "This is a simple test of what the plots should hopefully look like."
   ]
  },
  {
   "cell_type": "code",
   "execution_count": 202,
   "metadata": {},
   "outputs": [
    {
     "data": {
      "image/png": "[encoded data removed]",
      "text/plain": [
       "<Figure size 360x360 with 1 Axes>"
      ]
     },
     "metadata": {
      "needs_background": "light"
     },
     "output_type": "display_data"
    }
   ],
   "source": [
    "g = sns.catplot(data=df, x=\"organ\", y=\"Q5: IL-13–, IL-4+,Freq. of Parent\", \n",
    "             hue=\"genotype\", hue_order=[\"WT\", \"KO\"], dodge=True, kind=\"bar\",\n",
    "               linewidth=1.5, facecolor=(1, 0, 1, 0),\n",
    "                 errcolor=\".2\", edgecolor=\"0.2\",\n",
    "               capsize=0.2, ci=\"sd\", legend=False)\n",
    "sns.swarmplot(data=df, x=\"organ\", y=\"Q5: IL-13–, IL-4+,Freq. of Parent\", \n",
    "             hue=\"genotype\", hue_order=[\"WT\", \"KO\"], dodge=True, s=8, ax=g.ax)\n",
    "plt.show()"
   ]
  },
  {
   "cell_type": "code",
   "execution_count": null,
   "metadata": {},
   "outputs": [],
   "source": []
  }
 ],
 "metadata": {
  "kernelspec": {
   "display_name": "py36",
   "language": "python",
   "name": "py36"
  },
  "language_info": {
   "codemirror_mode": {
    "name": "ipython",
    "version": 3
   },
   "file_extension": ".py",
   "mimetype": "text/x-python",
   "name": "python",
   "nbconvert_exporter": "python",
   "pygments_lexer": "ipython3",
   "version": "3.6.6"
  }
 },
 "nbformat": 4,
 "nbformat_minor": 2
}
